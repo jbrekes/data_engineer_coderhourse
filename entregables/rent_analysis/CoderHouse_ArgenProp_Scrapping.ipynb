{
 "cells": [
  {
   "cell_type": "markdown",
   "metadata": {
    "id": "sUMiNVPI5n-y"
   },
   "source": [
    "## ArgenProp Scrapping\n",
    "\n",
    "**Objetivo:** extraer información de departamentos en alquiler en Capital Federal de la página de [ArgenProp](https://www.argenprop.com/) para su posterior carga a Redshift y análisis.\n",
    "\n",
    "* El script sólo busca departamentos ordenados por más recientemente publicados. Como pasos adicionales, puede editarse la URL para extraer casas, PH, etc.\n",
    "* También podrán extraerse propiedades en venta. Esto ya se tuvo en cuenta en la estructura al agregar una variable \"sell_or_rent_ind\" para identificar si se trata de un anuncio de alquiler o de venta"
   ]
  },
  {
   "cell_type": "markdown",
   "metadata": {},
   "source": [
    " ### Imports"
   ]
  },
  {
   "cell_type": "code",
   "execution_count": 1,
   "metadata": {},
   "outputs": [],
   "source": [
    "# !pip3 install python-dotenv"
   ]
  },
  {
   "cell_type": "code",
   "execution_count": 2,
   "metadata": {
    "scrolled": true
   },
   "outputs": [],
   "source": [
    "# !pip3 install redshift_connector"
   ]
  },
  {
   "cell_type": "code",
   "execution_count": 3,
   "metadata": {},
   "outputs": [],
   "source": [
    "import pandas as pd\n",
    "import pytz\n",
    "import redshift_connector\n",
    "import requests\n",
    "import re\n",
    "import time\n",
    "from bs4 import BeautifulSoup\n",
    "from datetime import datetime\n",
    "from dotenv import dotenv_values\n",
    "from sqlalchemy import create_engine, insert, MetaData, Table\n",
    "from sqlalchemy.orm import sessionmaker"
   ]
  },
  {
   "cell_type": "markdown",
   "metadata": {},
   "source": [
    "### Argenprop Data Extraction"
   ]
  },
  {
   "cell_type": "code",
   "execution_count": 4,
   "metadata": {
    "id": "5HtGw3K7i-Jh"
   },
   "outputs": [],
   "source": [
    "utc_timezone = pytz.utc\n",
    "process_dt_utc = datetime.now(utc_timezone)\n",
    "process_dttm = process_dt_utc.strftime(\"%Y-%m-%d %H:%M:%S %Z\")\n",
    "process_dt = process_dt_utc.strftime(\"%Y-%m-%d\")\n",
    "\n",
    "ap_base_url = 'https://www.argenprop.com'\n",
    "\n",
    "ap_new_url = ap_base_url + '/departamento-alquiler-localidad-capital-federal-orden-masnuevos-pagina-'\n",
    "\n",
    "def ap_request(url):\n",
    "  response = requests.get(url)\n",
    "\n",
    "  if response.status_code == 200:\n",
    "      # Parse HTML content using lxml\n",
    "      soup = BeautifulSoup(response.text, 'lxml')\n",
    "  else:\n",
    "      print(\"Error al obtener la página:\", response.status_code)\n",
    "\n",
    "  return soup\n",
    "\n",
    "listing_urls = []"
   ]
  },
  {
   "cell_type": "code",
   "execution_count": 5,
   "metadata": {
    "id": "j889HkdQAwDm"
   },
   "outputs": [],
   "source": [
    "# Get the URLs of the most recent listings (First 50 pages. The website does not provide the publication date of the item.)\n",
    "# The code should be executed every day so it would not be necessary to search all the pages every day, just until we detect a property already scanned the day before\n",
    "\n",
    "for i in range(1,3):\n",
    "\n",
    "  try:\n",
    "    page_data = ap_request(ap_new_url + str(i))\n",
    "\n",
    "    listing_items_temp = page_data.find_all(class_='listing__item')\n",
    "\n",
    "    for i in listing_items_temp:\n",
    "      card_link = i.find('a', class_='card')\n",
    "\n",
    "      # Look for the listing URL inside the \"href\" atribute\n",
    "      if card_link and 'href' in card_link.attrs:\n",
    "        listing_endpoint = card_link['href']\n",
    "\n",
    "        listing_url = ap_base_url + listing_endpoint\n",
    "\n",
    "        listing_urls.append(listing_url)\n",
    "        \n",
    "  except Exception as e:\n",
    "    print('Hubo un problema al procesar la página: ' + e)"
   ]
  },
  {
   "cell_type": "code",
   "execution_count": 6,
   "metadata": {},
   "outputs": [
    {
     "data": {
      "text/plain": [
       "40"
      ]
     },
     "execution_count": 6,
     "metadata": {},
     "output_type": "execute_result"
    }
   ],
   "source": [
    "len(listing_urls)"
   ]
  },
  {
   "cell_type": "code",
   "execution_count": 7,
   "metadata": {},
   "outputs": [
    {
     "data": {
      "text/plain": [
       "['https://www.argenprop.com/departamento-en-alquiler-en-saavedra-4-ambientes--14414404',\n",
       " 'https://www.argenprop.com/departamento-en-alquiler-en-palermo-hollywood-3-ambientes--14495653',\n",
       " 'https://www.argenprop.com/departamento-en-alquiler-en-centro-2-ambientes--14672262',\n",
       " 'https://www.argenprop.com/departamento-en-alquiler-en-recoleta-2-ambientes--14672311',\n",
       " 'https://www.argenprop.com/departamento-en-alquiler-en-palermo-2-ambientes--14666440',\n",
       " 'https://www.argenprop.com/departamento-en-alquiler-en-nunez-3-ambientes--14659645',\n",
       " 'https://www.argenprop.com/departamento-en-alquiler-en-nunez-3-ambientes--14659647',\n",
       " 'https://www.argenprop.com/departamento-en-alquiler-en-nunez-3-ambientes--14659646',\n",
       " 'https://www.argenprop.com/departamento-en-alquiler-en-palermo-hollywood-3-ambientes--14672276',\n",
       " 'https://www.argenprop.com/departamento-en-alquiler-en-almagro-2-ambientes--14599112']"
      ]
     },
     "execution_count": 7,
     "metadata": {},
     "output_type": "execute_result"
    }
   ],
   "source": [
    "listing_urls[0:10]"
   ]
  },
  {
   "cell_type": "code",
   "execution_count": 8,
   "metadata": {
    "colab": {
     "base_uri": "https://localhost:8080/"
    },
    "id": "mZr4tf8r0iys",
    "outputId": "17bbe56b-9e86-47b0-debf-5d2680b17a98"
   },
   "outputs": [],
   "source": [
    "# Create an empty list to store property data and iterate over a list of property listing URLs\n",
    "listings_data = []\n",
    "\n",
    "for listing_url in listing_urls:\n",
    "\n",
    "  try:\n",
    "    listing_req = ap_request(listing_url)\n",
    "\n",
    "    # Some of the details of the property will always be there, but others may not be present.\n",
    "    title_address = listing_req.find(class_='titlebar__address').get_text(strip=True)\n",
    "    title_desc_short = listing_req.find(class_='titlebar__title').get_text(strip=True)\n",
    "    description_title = listing_req.find(class_='section-description--title').get_text(strip=True)\n",
    "    listing_price = listing_req.find(class_='titlebar__price').get_text(strip=True)\n",
    "\n",
    "    try:\n",
    "      listing_id = listing_url.split(\"--\")[-1]\n",
    "    except:\n",
    "      continue\n",
    "    try:\n",
    "      description_content = listing_req.find(class_='section-description--content').get_text(strip=True)\n",
    "    except:\n",
    "      description_content = None\n",
    "    try:\n",
    "      address_detail = listing_req.find(class_='location-container').find_all('p')[0].get_text(strip = True)\n",
    "    except:\n",
    "      address_detail = None\n",
    "    try:\n",
    "      address_zone = listing_req.find(class_='location-container').find_all('p')[1].get_text(strip = True)\n",
    "    except:\n",
    "      address_zone = None\n",
    "\n",
    "    # Extract all property features and keep the most relevant ones\n",
    "    features_raw = listing_req.find_all(class_='property-features')\n",
    "    features_dict = {}\n",
    "\n",
    "    for features in features_raw:\n",
    "      features_list = features.find_all('li')\n",
    "\n",
    "      for feature in features_list:\n",
    "        string = feature.get_text(strip = True)\n",
    "\n",
    "        try:\n",
    "          key, value = string.split(\":\")\n",
    "          features_dict[key.strip()] = value.strip()\n",
    "        except:\n",
    "          # If splitting by \":\" fails, assume it's a boolean feature and set it to True\n",
    "          features_dict[string] = True\n",
    "\n",
    "    listing_data_temp = {\n",
    "        'listing_id': listing_id,\n",
    "        'listing_url': listing_url,\n",
    "        'title_address': title_address,\n",
    "        'title_desc_short': title_desc_short,\n",
    "        'description_title': description_title,\n",
    "        'description_content': description_content,\n",
    "        'listing_price': listing_price,\n",
    "        'address_detail': address_detail,\n",
    "        'address_zone': address_zone,\n",
    "        'room_qty': features_dict.get('Cant. Ambientes', None),\n",
    "        'dorms_qty': features_dict.get('Cant. Dormitorios', None),\n",
    "        'baths_qty': features_dict.get('Cant. Baños', None),\n",
    "        'parking_qty': features_dict.get('Cant. Cocheras', None),\n",
    "        'property_conditions': features_dict.get('Estado', None),\n",
    "        'property_age': features_dict.get('Antiguedad', None),\n",
    "        'building_conditions': features_dict.get('Estado Edificio', None),\n",
    "        'sell_or_rent_ind': features_dict.get('Tipo de operación', None),\n",
    "        'unit_type': features_dict.get('Tipo de Unidad', None),\n",
    "        'area_built': features_dict.get('Sup. Cubierta', None),\n",
    "        'area_not_built': features_dict.get('Sup. Descubierta', None),\n",
    "        'expenses_amt': features_dict.get('Expensas', None),\n",
    "        'price_amt': features_dict.get('Precio', None),\n",
    "        'elevator_ind': features_dict.get('Ascensor', False),\n",
    "        'pets_ind': features_dict.get('Permite Mascotas', False),\n",
    "        'gym_ind': features_dict.get('Gimnasio', False),\n",
    "        'rooftop_ind': features_dict.get('Terraza', False),\n",
    "        'pool_ind': features_dict.get('Pileta', False),\n",
    "        'grill_ind': features_dict.get('Parrilla', False),\n",
    "        'solarium_ind':  features_dict.get('Solarium', False),\n",
    "        'process_dt': process_dt,\n",
    "        'process_dttm': process_dttm\n",
    "    }\n",
    "\n",
    "    listings_data.append(listing_data_temp)\n",
    "\n",
    "  except Exception as e:\n",
    "    print(f\"Error while processing {listing_url}\")\n",
    "    continue"
   ]
  },
  {
   "cell_type": "code",
   "execution_count": 9,
   "metadata": {
    "id": "6LsgaBkAWPCk"
   },
   "outputs": [],
   "source": [
    "# Edit the format of some fields\n",
    "\n",
    "for listing in listings_data:\n",
    "    \n",
    "  # Limit description_content to 5000 characters\n",
    "  listing['description_content'] = listing['description_content'][:5000] if listing['description_content'] is not None else None\n",
    "\n",
    "  # Convert strings to int\n",
    "  int_variables = ['room_qty', 'dorms_qty', 'baths_qty', 'parking_qty', 'property_age']\n",
    "    \n",
    "  for i in int_variables:\n",
    "    listing[i] = int(listing[i]) if listing[i] is not None else None\n",
    "\n",
    "  # Convert areas to int\n",
    "  for area in ['area_built','area_not_built']:\n",
    "    area_units_str = area + '_units'\n",
    "\n",
    "    if listing[area] is None:\n",
    "      listing[area] = None\n",
    "      listing[area_units_str] = None\n",
    "\n",
    "    else:\n",
    "      try:\n",
    "        area_temp = re.match(r'([\\d,.]+)\\s*(\\S+)', listing[area])\n",
    "\n",
    "        if area_temp:\n",
    "          numeric_value_str, unit_of_measure = area_temp.groups()\n",
    "          numeric_value = int(float(numeric_value_str.replace('.', '').replace(',', '.')))\n",
    "\n",
    "          listing[area] = numeric_value\n",
    "          listing[area_units_str] = unit_of_measure\n",
    "\n",
    "        else:\n",
    "          # No data in 'area_built'\n",
    "          listing[area] = None\n",
    "          listing[area_units_str] = None\n",
    "      except:\n",
    "        print(f'Error getting the area: {area}')\n",
    "        print(listing)\n",
    "        print('')\n",
    "        break\n",
    "\n",
    "  # Edit Price (if informed)\n",
    "  if listing['price_amt'] is None or listing['listing_price'] == 'Consultar precio':\n",
    "    listing['informs_price_ind'] = False\n",
    "    listing['price_amt'] = None\n",
    "    listing['price_amt_units'] = None\n",
    "\n",
    "  else:\n",
    "    try:\n",
    "      price_temp = re.match(r'([^\\d]+)(\\d+(?:[,.]\\d+)?)', listing['price_amt'])\n",
    "    except:\n",
    "      print('Error getting the price')\n",
    "      print(listing)\n",
    "      print('')\n",
    "\n",
    "    if price_temp:\n",
    "      price_units, price_amt_str = price_temp.groups()\n",
    "      price_amt = int(re.sub(r'[,.]', '', price_amt_str))\n",
    "      price_units = price_units.strip().replace('$','ARS')\n",
    "\n",
    "      listing['informs_price_ind'] = True\n",
    "      listing['price_amt'] = price_amt\n",
    "      listing['price_amt_units'] = price_units\n",
    "\n",
    "    else:\n",
    "      listing['informs_price_ind'] = False\n",
    "      listing['price_amt'] = None\n",
    "      listing['price_amt_units'] = None\n",
    "\n",
    "  # Something similar for expenses (if informed)\n",
    "  if listing['expenses_amt'] is None:\n",
    "    listing['expenses_ind'] = False\n",
    "    listing['expenses_amt_units'] = None\n",
    "\n",
    "  else:\n",
    "    try:\n",
    "      expenses_temp = re.match(r'([^\\d]+)(\\d+(?:[,.]\\d+)?)', listing['expenses_amt'])\n",
    "    except:\n",
    "      print('Error getting the expenses')\n",
    "      print(listing)\n",
    "      print('')\n",
    "\n",
    "    if expenses_temp:\n",
    "      expenses_units, expenses_amt_str = expenses_temp.groups()\n",
    "      expenses_amt = int(re.sub(r'[,.]', '', expenses_amt_str))\n",
    "      expenses_units = expenses_units.strip().replace('$','ARS')\n",
    "\n",
    "      listing['expenses_ind'] = True\n",
    "      listing['expenses_amt'] = expenses_amt\n",
    "      listing['expenses_amt_units'] = expenses_units\n",
    "\n",
    "    else:\n",
    "      listing['expenses_ind'] = False\n",
    "      listing['expenses_amt'] = None\n",
    "      listing['expenses_amt_units'] = None"
   ]
  },
  {
   "cell_type": "code",
   "execution_count": 10,
   "metadata": {
    "colab": {
     "base_uri": "https://localhost:8080/"
    },
    "id": "8eK2kT7RsrmY",
    "outputId": "e6f1cdaa-dd9b-49bd-8c6e-d514f93ffce2"
   },
   "outputs": [
    {
     "data": {
      "text/plain": [
       "{'listing_id': '14414404',\n",
       " 'listing_url': 'https://www.argenprop.com/departamento-en-alquiler-en-saavedra-4-ambientes--14414404',\n",
       " 'title_address': 'Avenida Balbin al 4200',\n",
       " 'title_desc_short': 'Departamento en Alquiler en Saavedra, Capital Federal',\n",
       " 'description_title': 'SAAVEDRA-HERMOSO DEPTO 4 AMB C/COCHERA A ESTRENAR 110M2 EN EDIFICIO RICCI FLATS-VENTA/ALQUILER',\n",
       " 'description_content': 'HERMOSO DEPARTAMENTO 4 AMBIENTES CON COCHERA EN EL CORAZóN DEL BARRIO DE SAAVEDRA EN EDIFICIO RICCI FLATS!!VENTA O ALQUILEREdificio en esquina ubicado en el Barrio de Savaedra, rodeado de pulmones verdes y cercano a accesos rápidos que lo conectan con la zona norte y el resto de la ciudad. A pocas cuadras se encuentra el Shopping Dot Baires y Avenida Cabildo como propuestas comerciales de la zona.EDIFICIO:- Local comercial en Planta Baja.- Cocheras - Bauleras y - 24 unidades funcionales en - 9 pisos, - Rooftop, con increíbles vistas abiertas, parrillas y sector de solárium.UNIDAD:- 4 ambientes de 110m2 totales (20m2 de balcon terraza)- 3 dormitorios (1 en suite) con placards.- Living comedor con amplios ventanales.- Cocina integrada al living con horno anafe de 4 hornallas y horno eléctrico.- Toilette de recepción.- 2 baños completos (1 en suite)- Espacio para escritorio.- Hermoso y amplio balcón terraza.- Lavadero independiente.EQUIPAMIENTO Y TERMINACIONES- Pisos de cerámica esmaltada/yeso en paredes- Baños: Pisos de cerámica esmaltada/Revestimientos de cerámica esmaltada/Espejos sobre lavatorios.- Mesada de mármol/Grifería mono comando.- Cocinas: Piso de cerámica esmaltada/Mesadas de granito con bacha de acero inoxidable. Griferías mono comando. Muebles bajo mesada de melamina Anafe eléctrico. Horno eléctrico.- Lavadero: Pisos de cerámica esmaltada. Pileta de lavar/Grifería mono comando.- Balcones: Pisos de cerámica esmaltada.- Carpinterías: Las exteriores llevaran premarco de chapa y marco y hojas de aluminio. Las interiores llevaran marco metálico y hojas placas para pintar.- Frentes de placar corredizo de aluminio y hojas placa para pintar.- Agua caliente por un sistema individual de termo tanque eléctrico.,\\xa0- Calefacción: Por aire frio / calor.',\n",
       " 'listing_price': 'Consultar precio',\n",
       " 'address_detail': 'Avenida Balbin al 4200',\n",
       " 'address_zone': 'Saavedra, Capital Federal',\n",
       " 'room_qty': 4,\n",
       " 'dorms_qty': 3,\n",
       " 'baths_qty': 2,\n",
       " 'parking_qty': 1,\n",
       " 'property_conditions': None,\n",
       " 'property_age': None,\n",
       " 'building_conditions': None,\n",
       " 'sell_or_rent_ind': 'Alquiler',\n",
       " 'unit_type': None,\n",
       " 'area_built': 90,\n",
       " 'area_not_built': None,\n",
       " 'expenses_amt': None,\n",
       " 'price_amt': None,\n",
       " 'elevator_ind': False,\n",
       " 'pets_ind': False,\n",
       " 'gym_ind': False,\n",
       " 'rooftop_ind': False,\n",
       " 'pool_ind': False,\n",
       " 'grill_ind': False,\n",
       " 'solarium_ind': False,\n",
       " 'process_dt': '2023-10-28',\n",
       " 'process_dttm': '2023-10-28 14:25:38 UTC',\n",
       " 'area_built_units': 'm2',\n",
       " 'area_not_built_units': None,\n",
       " 'informs_price_ind': False,\n",
       " 'price_amt_units': None,\n",
       " 'expenses_ind': False,\n",
       " 'expenses_amt_units': None}"
      ]
     },
     "execution_count": 10,
     "metadata": {},
     "output_type": "execute_result"
    }
   ],
   "source": [
    "listings_data[0]"
   ]
  },
  {
   "cell_type": "markdown",
   "metadata": {},
   "source": [
    "### Connect to Redshift Database"
   ]
  },
  {
   "cell_type": "markdown",
   "metadata": {},
   "source": [
    "#### Set connection"
   ]
  },
  {
   "cell_type": "code",
   "execution_count": 11,
   "metadata": {},
   "outputs": [],
   "source": [
    "config = dotenv_values(\".env\")"
   ]
  },
  {
   "cell_type": "code",
   "execution_count": 12,
   "metadata": {},
   "outputs": [],
   "source": [
    "host = config['REDSHIFT_HOST']\n",
    "port = config['REDSHIFT_PORT']\n",
    "database = config['REDSHIFT_DB']\n",
    "user = config['REDSHIFT_USER']\n",
    "password = config['SEDSHIFT_PASSWORD']\n",
    "schema = config['REDSHIFT_SCHEMA']\n",
    "table_name = config['REDSHIFT_TABLE']"
   ]
  },
  {
   "cell_type": "code",
   "execution_count": 13,
   "metadata": {},
   "outputs": [],
   "source": [
    "def redshift_connection(host, port, db, user, pwd):\n",
    "  try:\n",
    "    print('Connecting to Redshift Cluster')\n",
    "    conn = redshift_connector.connect(\n",
    "      host = host,\n",
    "      database = db,\n",
    "      port = port,\n",
    "      user = user,\n",
    "      password = pwd\n",
    "    )\n",
    "    \n",
    "    # Construct the connection URL\n",
    "    db_url = f\"postgresql+psycopg2://{user}:{pwd}@{host}:{port}/{db}\"\n",
    "\n",
    "    # Create an SQLAlchemy engine\n",
    "    engine = create_engine(db_url)\n",
    "    \n",
    "    print('Connection Complete')\n",
    "    return conn, engine\n",
    "\n",
    "  except:\n",
    "    print('Failed to connect to Redshift')"
   ]
  },
  {
   "cell_type": "code",
   "execution_count": 14,
   "metadata": {},
   "outputs": [
    {
     "name": "stdout",
     "output_type": "stream",
     "text": [
      "Connecting to Redshift Cluster\n",
      "Connection Complete\n"
     ]
    }
   ],
   "source": [
    "conn, engine = redshift_connection(host, port, database, user, password) "
   ]
  },
  {
   "cell_type": "markdown",
   "metadata": {},
   "source": [
    "Create function to execute SQL Queries"
   ]
  },
  {
   "cell_type": "code",
   "execution_count": 15,
   "metadata": {},
   "outputs": [],
   "source": [
    "def exec_sql(conn, query):\n",
    "  try:\n",
    "    cursor = conn.cursor()\n",
    "    conn.autocomit = True\n",
    "    cursor.execute(query)\n",
    "    cols = [description[0] for description in cursor.description]\n",
    "    \n",
    "    df = pd.DataFrame(cursor.fetchall(), columns = cols)\n",
    "    return df\n",
    "\n",
    "  except Exception as e:\n",
    "    print(f\"Failed with error message: {e}\")\n",
    "    raise e\n",
    "    \n",
    "  finally:\n",
    "    cursor.close()"
   ]
  },
  {
   "cell_type": "markdown",
   "metadata": {},
   "source": [
    "#### Get Redshift data to look for dupplicates\n",
    "\n",
    "As we do not have a temporary identifier to know until when we have downloaded publications, and publications can appear or be deleted from Argenprop at any time, it is necessary to control that we do not add a publication that has been previously scanned. \n",
    "\n",
    "* We may have extracted the publication in a previous process, and it may already be in the Redshift table.\n",
    "* It can also happen that the owner has published the same apartment 2 different times. In this case, we are only interested in removing the duplicate if both listings have different prices (it may be that the listing has been updated with a different price)."
   ]
  },
  {
   "cell_type": "code",
   "execution_count": 16,
   "metadata": {},
   "outputs": [],
   "source": [
    "query = f\"SELECT DISTINCT listing_id FROM {schema}.{table_name}\"\n",
    "\n",
    "db_ids = exec_sql(conn, query)\n",
    "db_ids['listing_id'] = db_ids['listing_id'].astype(str)"
   ]
  },
  {
   "cell_type": "code",
   "execution_count": 17,
   "metadata": {},
   "outputs": [],
   "source": [
    "df = pd.DataFrame(listings_data)"
   ]
  },
  {
   "cell_type": "code",
   "execution_count": 18,
   "metadata": {},
   "outputs": [
    {
     "data": {
      "text/html": [
       "<div>\n",
       "<style scoped>\n",
       "    .dataframe tbody tr th:only-of-type {\n",
       "        vertical-align: middle;\n",
       "    }\n",
       "\n",
       "    .dataframe tbody tr th {\n",
       "        vertical-align: top;\n",
       "    }\n",
       "\n",
       "    .dataframe thead th {\n",
       "        text-align: right;\n",
       "    }\n",
       "</style>\n",
       "<table border=\"1\" class=\"dataframe\">\n",
       "  <thead>\n",
       "    <tr style=\"text-align: right;\">\n",
       "      <th></th>\n",
       "      <th>listing_id</th>\n",
       "      <th>listing_url</th>\n",
       "      <th>title_address</th>\n",
       "      <th>title_desc_short</th>\n",
       "      <th>description_title</th>\n",
       "      <th>description_content</th>\n",
       "      <th>listing_price</th>\n",
       "      <th>address_detail</th>\n",
       "      <th>address_zone</th>\n",
       "      <th>room_qty</th>\n",
       "      <th>...</th>\n",
       "      <th>grill_ind</th>\n",
       "      <th>solarium_ind</th>\n",
       "      <th>process_dt</th>\n",
       "      <th>process_dttm</th>\n",
       "      <th>area_built_units</th>\n",
       "      <th>area_not_built_units</th>\n",
       "      <th>informs_price_ind</th>\n",
       "      <th>price_amt_units</th>\n",
       "      <th>expenses_ind</th>\n",
       "      <th>expenses_amt_units</th>\n",
       "    </tr>\n",
       "  </thead>\n",
       "  <tbody>\n",
       "    <tr>\n",
       "      <th>29</th>\n",
       "      <td>14275631</td>\n",
       "      <td>https://www.argenprop.com/departamento-en-alqu...</td>\n",
       "      <td>11 De Septiembre 1700</td>\n",
       "      <td>Departamento en Alquiler en Belgrano, Capital ...</td>\n",
       "      <td>11 de Septiembre 1700 4 Amb 98 m Cochera</td>\n",
       "      <td>11 de Septiembre 1700 entre La Pampa y Jose He...</td>\n",
       "      <td>$ 850.000</td>\n",
       "      <td>11 De Septiembre 1700</td>\n",
       "      <td>Belgrano, Capital Federal</td>\n",
       "      <td>4</td>\n",
       "      <td>...</td>\n",
       "      <td>False</td>\n",
       "      <td>False</td>\n",
       "      <td>2023-10-28</td>\n",
       "      <td>2023-10-28 14:25:38 UTC</td>\n",
       "      <td>m2</td>\n",
       "      <td>m2</td>\n",
       "      <td>True</td>\n",
       "      <td>ARS</td>\n",
       "      <td>True</td>\n",
       "      <td>ARS</td>\n",
       "    </tr>\n",
       "  </tbody>\n",
       "</table>\n",
       "<p>1 rows × 37 columns</p>\n",
       "</div>"
      ],
      "text/plain": [
       "   listing_id                                        listing_url  \\\n",
       "29   14275631  https://www.argenprop.com/departamento-en-alqu...   \n",
       "\n",
       "            title_address                                   title_desc_short  \\\n",
       "29  11 De Septiembre 1700  Departamento en Alquiler en Belgrano, Capital ...   \n",
       "\n",
       "                           description_title  \\\n",
       "29  11 de Septiembre 1700 4 Amb 98 m Cochera   \n",
       "\n",
       "                                  description_content listing_price  \\\n",
       "29  11 de Septiembre 1700 entre La Pampa y Jose He...     $ 850.000   \n",
       "\n",
       "           address_detail               address_zone  room_qty  ...  \\\n",
       "29  11 De Septiembre 1700  Belgrano, Capital Federal         4  ...   \n",
       "\n",
       "    grill_ind  solarium_ind  process_dt             process_dttm  \\\n",
       "29      False         False  2023-10-28  2023-10-28 14:25:38 UTC   \n",
       "\n",
       "    area_built_units area_not_built_units informs_price_ind price_amt_units  \\\n",
       "29                m2                   m2              True             ARS   \n",
       "\n",
       "    expenses_ind  expenses_amt_units  \n",
       "29          True                 ARS  \n",
       "\n",
       "[1 rows x 37 columns]"
      ]
     },
     "execution_count": 18,
     "metadata": {},
     "output_type": "execute_result"
    }
   ],
   "source": [
    "df.sample(1)"
   ]
  },
  {
   "cell_type": "code",
   "execution_count": 19,
   "metadata": {},
   "outputs": [
    {
     "data": {
      "text/plain": [
       "(40, 37)"
      ]
     },
     "execution_count": 19,
     "metadata": {},
     "output_type": "execute_result"
    }
   ],
   "source": [
    "df.shape"
   ]
  },
  {
   "cell_type": "code",
   "execution_count": 20,
   "metadata": {},
   "outputs": [
    {
     "data": {
      "text/plain": [
       "(36, 37)"
      ]
     },
     "execution_count": 20,
     "metadata": {},
     "output_type": "execute_result"
    }
   ],
   "source": [
    "# Remove duplicates (2 publications with different ID but same department, address and price)\n",
    "df = df.drop_duplicates(subset=['title_desc_short', 'title_address', 'listing_price'])\n",
    "df.shape"
   ]
  },
  {
   "cell_type": "code",
   "execution_count": 21,
   "metadata": {},
   "outputs": [
    {
     "data": {
      "text/plain": [
       "(32, 37)"
      ]
     },
     "execution_count": 21,
     "metadata": {},
     "output_type": "execute_result"
    }
   ],
   "source": [
    "# Merge df with db_ids using a left join and indicator=True to remove records already in the database\n",
    "merged = pd.merge(df, db_ids, on='listing_id', how='left', indicator=True)\n",
    "\n",
    "df_clean = merged[merged['_merge'] == 'left_only']\n",
    "df_clean = df_clean.drop(columns=['_merge'])\n",
    "df_clean.shape"
   ]
  },
  {
   "cell_type": "markdown",
   "metadata": {},
   "source": [
    "#### Append new information"
   ]
  },
  {
   "cell_type": "markdown",
   "metadata": {},
   "source": [
    "Columns in Redshift table don't have the same order as the ones in the dataframe, so I need to order them"
   ]
  },
  {
   "cell_type": "code",
   "execution_count": 22,
   "metadata": {},
   "outputs": [],
   "source": [
    "# Create a metadata object with the schema\n",
    "metadata = MetaData(schema=schema)\n",
    "\n",
    "# Reflect the existing table structure\n",
    "table = Table(table_name, metadata, autoload=True, autoload_with=engine)\n",
    "\n",
    "# Get the column names and their order from the table\n",
    "column_order = [col.name for col in table.columns]\n",
    "\n",
    "# Reorder the Dataframe\n",
    "df_clean = df_clean[column_order] "
   ]
  },
  {
   "cell_type": "code",
   "execution_count": 23,
   "metadata": {},
   "outputs": [
    {
     "name": "stdout",
     "output_type": "stream",
     "text": [
      "Uploading iteration 1 out of 2\n",
      "Time taken for iteration 1: 222.42499160766602 seconds\n",
      "Uploading iteration 2 out of 2\n",
      "Time taken for iteration 2: 97.41609477996826 seconds\n",
      "Processing complete. Total time: 319.84 seconds\n"
     ]
    }
   ],
   "source": [
    "# Define the chunk size\n",
    "chunk_size = 20\n",
    "\n",
    "# Calculate the total number of chunks\n",
    "total_chunks = len(df_clean) // chunk_size + 1\n",
    "\n",
    "# Iterate through the chunks\n",
    "\n",
    "update_start_time = time.time()\n",
    "\n",
    "for i in range(total_chunks):\n",
    "  start_idx = i * chunk_size\n",
    "  end_idx = (i + 1) * chunk_size\n",
    "  \n",
    "  # Slice the DataFrame to get the current chunk\n",
    "  current_subset = df_clean[start_idx:end_idx]\n",
    "  \n",
    "  print(f\"Uploading iteration {i + 1} out of {total_chunks}\")\n",
    "  \n",
    "  start_time = time.time()\n",
    "  \n",
    "  current_subset.to_sql(table_name, engine, schema=schema, index=False, if_exists='append', chunksize=100)\n",
    "  \n",
    "  end_time = time.time()\n",
    "  elapsed_time = end_time - start_time\n",
    "    \n",
    "  print(f\"Time taken for iteration {i + 1}: {elapsed_time} seconds\")\n",
    "\n",
    "\n",
    "update_end_time = time.time()\n",
    "total_elapsed_time = update_end_time - update_start_time\n",
    "\n",
    "print(f\"Processing complete. Total time: {total_elapsed_time:.2f} seconds\")"
   ]
  },
  {
   "cell_type": "markdown",
   "metadata": {},
   "source": [
    "#### Close Connection"
   ]
  },
  {
   "cell_type": "code",
   "execution_count": 24,
   "metadata": {},
   "outputs": [],
   "source": [
    "conn.close()"
   ]
  }
 ],
 "metadata": {
  "colab": {
   "provenance": [],
   "toc_visible": true
  },
  "kernelspec": {
   "display_name": "Python 3 (ipykernel)",
   "language": "python",
   "name": "python3"
  },
  "language_info": {
   "codemirror_mode": {
    "name": "ipython",
    "version": 3
   },
   "file_extension": ".py",
   "mimetype": "text/x-python",
   "name": "python",
   "nbconvert_exporter": "python",
   "pygments_lexer": "ipython3",
   "version": "3.10.9"
  }
 },
 "nbformat": 4,
 "nbformat_minor": 1
}
